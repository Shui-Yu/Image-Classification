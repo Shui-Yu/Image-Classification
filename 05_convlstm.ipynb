{
 "cells": [
  {
   "cell_type": "code",
   "execution_count": 1,
   "metadata": {},
   "outputs": [],
   "source": [
    "import numpy as np \n",
    "import pandas as pd \n",
    "import os\n",
    "import matplotlib.pyplot as plt\n",
    "import cv2\n",
    "from math import pi, cos, sin\n",
    "from random import random"
   ]
  },
  {
   "cell_type": "markdown",
   "metadata": {},
   "source": [
    "# Image preprocessing"
   ]
  },
  {
   "cell_type": "code",
   "execution_count": 2,
   "metadata": {},
   "outputs": [],
   "source": [
    "def select_centers(h, k, r, frames):\n",
    "    num = np.linspace(0, 1, frames)\n",
    "    centers = [(h + cos(i*2*pi)*r, k + sin(i*2*pi)*r) for i in num]\n",
    "    return centers\n",
    "   \n",
    "def pad_img_to_fit(img, x1, x2, y1, y2):\n",
    "    img = np.pad(img, ((np.abs(np.minimum(0, y1)), np.maximum(y2 - img.shape[0], 0)),\n",
    "               (np.abs(np.minimum(0, x1)), np.maximum(x2 - img.shape[1], 0)), (0,0)), mode = \"constant\")\n",
    "    y1 += np.abs(np.minimum(0, y1))\n",
    "    y2 += np.abs(np.minimum(0, y1))\n",
    "    x1 += np.abs(np.minimum(0, x1))\n",
    "    x2 += np.abs(np.minimum(0, x1))\n",
    "    return img, x1, x2, y1, y2               \n",
    "               \n",
    "def imcrop(img, x, y, width): \n",
    "    x1 = int(x - width/2)\n",
    "    y1 = int(y - width/2)\n",
    "    x2 = x1 + width\n",
    "    y2 = y1 + width\n",
    "    if x1 < 0 or y1 < 0 or x2 > img.shape[1] or y2 > img.shape[0]:\n",
    "        img, x1, x2, y1, y2 = pad_img_to_fit(img, x1, x2, y1, y2)\n",
    "    cimg = img[y1:y2, x1:x2, :]\n",
    "    shape = (100, 100)\n",
    "    cimg = cv2.resize(cimg, shape)\n",
    "    return cimg\n",
    "\n",
    "def final_crop(img, frames, centers):\n",
    "    crop_list = []\n",
    "    for i in range(frames):\n",
    "        crop_list.append(imcrop(img, centers[i][0], centers[i][1], width = 250))\n",
    "    return np.array(crop_list)"
   ]
  },
  {
   "cell_type": "code",
   "execution_count": 3,
   "metadata": {},
   "outputs": [],
   "source": [
    "train_images = []       \n",
    "train_labels = []\n",
    "train_path = os.getcwd() + '/dataset/training_set/'\n",
    "\n",
    "# number of frames to crop\n",
    "frames = 20\n",
    "# width of the cropped images\n",
    "width = 250\n",
    "# x coordinate of the detected circle center\n",
    "h = 880\n",
    "# y coordinate of the detected circle center\n",
    "k = 480\n",
    "# radius of the detected circle center\n",
    "r = 350\n",
    "\n",
    "for folder in os.listdir(train_path):\n",
    "    for filename in os.listdir(train_path + str(folder)):\n",
    "        if filename.split('.')[1] == 'jpg':\n",
    "            img = cv2.imread(os.path.join(train_path + str(folder), filename))\n",
    "\n",
    "            # cropping frames from image\n",
    "            centers = select_centers(h, k, r, frames)\n",
    "            crop_list = final_crop(img, frames, centers) \n",
    "            \n",
    "            # spliting file names and storing the labels for image in list\n",
    "            train_labels.append(str(folder))\n",
    "            \n",
    "            train_images.append(crop_list)\n",
    "\n",
    "# converting labels into One Hot encoded sparse matrix\n",
    "train_labels = pd.get_dummies(train_labels).values\n",
    "\n",
    "# converting train_images to array\n",
    "train_images = np.array(train_images)"
   ]
  },
  {
   "cell_type": "code",
   "execution_count": 4,
   "metadata": {},
   "outputs": [
    {
     "data": {
      "text/plain": [
       "(286, 20, 100, 100, 3)"
      ]
     },
     "execution_count": 4,
     "metadata": {},
     "output_type": "execute_result"
    }
   ],
   "source": [
    "train_images.shape"
   ]
  },
  {
   "cell_type": "code",
   "execution_count": 5,
   "metadata": {},
   "outputs": [],
   "source": [
    "from sklearn.model_selection import train_test_split\n",
    "np.random.seed(1)\n",
    "\n",
    "# splitting training data into train and validation dataset\n",
    "x_train,x_val,y_train,y_val = train_test_split(train_images, train_labels, random_state = 1)\n",
    "\n",
    "# normalize the dataset\n",
    "x_train = x_train/255.\n",
    "x_val = x_val/255."
   ]
  },
  {
   "cell_type": "code",
   "execution_count": 6,
   "metadata": {},
   "outputs": [
    {
     "name": "stdout",
     "output_type": "stream",
     "text": [
      "(214, 20, 100, 100, 3)\n",
      "(214, 3)\n",
      "(72, 20, 100, 100, 3)\n",
      "(72, 3)\n"
     ]
    }
   ],
   "source": [
    "print(x_train.shape)\n",
    "print(y_train.shape)\n",
    "print(x_val.shape)\n",
    "print(y_val.shape)"
   ]
  },
  {
   "cell_type": "markdown",
   "metadata": {},
   "source": [
    "# ConvLSTM model"
   ]
  },
  {
   "cell_type": "code",
   "execution_count": 13,
   "metadata": {},
   "outputs": [],
   "source": [
    "from keras.layers import Conv2D, BatchNormalization, MaxPool2D, GlobalMaxPool2D\n",
    "\n",
    "def build_convnet():\n",
    "    \n",
    "    momentum = .9\n",
    "    \n",
    "    model = keras.Sequential()\n",
    "    \n",
    "    model.add(Conv2D(32, (3,3), input_shape=(100, 100, 3), padding='same', activation='relu'))\n",
    "    model.add(Conv2D(32, (3,3), padding='same', activation='relu'))\n",
    "    model.add(BatchNormalization(momentum=momentum))\n",
    "    \n",
    "    model.add(MaxPool2D())\n",
    "    \n",
    "    model.add(Conv2D(32, (3,3), padding='same', activation='relu'))\n",
    "    model.add(Conv2D(32, (3,3), padding='same', activation='relu'))\n",
    "    model.add(BatchNormalization(momentum=momentum))\n",
    "    \n",
    "    model.add(Conv2D(64, (3,3), padding='same', activation='relu'))\n",
    "    model.add(Conv2D(64, (3,3), padding='same', activation='relu'))\n",
    "    model.add(BatchNormalization(momentum=momentum))\n",
    "    \n",
    "    model.add(GlobalMaxPool2D())\n",
    "    \n",
    "    return model"
   ]
  },
  {
   "cell_type": "code",
   "execution_count": 14,
   "metadata": {},
   "outputs": [],
   "source": [
    "from keras.layers import TimeDistributed, LSTM, Dense, Dropout\n",
    "\n",
    "def action_model():\n",
    "\n",
    "    convnet = build_convnet()\n",
    "    \n",
    "    model = keras.Sequential()\n",
    "\n",
    "    model.add(TimeDistributed(convnet, input_shape=(20, 100, 100, 3)))\n",
    "\n",
    "    model.add(LSTM(64))\n",
    "\n",
    "    model.add(Dense(1024, activation='relu'))\n",
    "    model.add(Dropout(.5))\n",
    "    model.add(Dense(512, activation='relu'))\n",
    "    model.add(Dropout(.5))\n",
    "    model.add(Dense(128, activation='relu'))\n",
    "    model.add(Dropout(.5))\n",
    "    model.add(Dense(64, activation='relu'))\n",
    "    model.add(Dense(3, activation='softmax'))\n",
    "    \n",
    "    return model"
   ]
  },
  {
   "cell_type": "code",
   "execution_count": 15,
   "metadata": {},
   "outputs": [],
   "source": [
    "import keras \n",
    "\n",
    "model =  action_model()\n",
    "optimizer = keras.optimizers.Adam(0.001)\n",
    "model.compile(optimizer, 'categorical_crossentropy', metrics = ['acc'])"
   ]
  },
  {
   "cell_type": "code",
   "execution_count": 16,
   "metadata": {},
   "outputs": [
    {
     "name": "stdout",
     "output_type": "stream",
     "text": [
      "Model: \"sequential_4\"\n",
      "_________________________________________________________________\n",
      "Layer (type)                 Output Shape              Param #   \n",
      "=================================================================\n",
      "time_distributed_2 (TimeDist (None, 20, 64)            84576     \n",
      "_________________________________________________________________\n",
      "lstm_2 (LSTM)                (None, 64)                33024     \n",
      "_________________________________________________________________\n",
      "dense_6 (Dense)              (None, 1024)              66560     \n",
      "_________________________________________________________________\n",
      "dropout_4 (Dropout)          (None, 1024)              0         \n",
      "_________________________________________________________________\n",
      "dense_7 (Dense)              (None, 512)               524800    \n",
      "_________________________________________________________________\n",
      "dropout_5 (Dropout)          (None, 512)               0         \n",
      "_________________________________________________________________\n",
      "dense_8 (Dense)              (None, 128)               65664     \n",
      "_________________________________________________________________\n",
      "dropout_6 (Dropout)          (None, 128)               0         \n",
      "_________________________________________________________________\n",
      "dense_9 (Dense)              (None, 64)                8256      \n",
      "_________________________________________________________________\n",
      "dense_10 (Dense)             (None, 3)                 195       \n",
      "=================================================================\n",
      "Total params: 783,075\n",
      "Trainable params: 782,819\n",
      "Non-trainable params: 256\n",
      "_________________________________________________________________\n"
     ]
    }
   ],
   "source": [
    "model.summary()"
   ]
  },
  {
   "cell_type": "code",
   "execution_count": 17,
   "metadata": {},
   "outputs": [
    {
     "name": "stdout",
     "output_type": "stream",
     "text": [
      "Train on 214 samples, validate on 72 samples\n",
      "Epoch 1/30\n",
      "214/214 [==============================] - 143s 670ms/step - loss: 1.0733 - acc: 0.4393 - val_loss: 1.0500 - val_acc: 0.5972\n",
      "Epoch 2/30\n",
      "214/214 [==============================] - 116s 542ms/step - loss: 0.9546 - acc: 0.5140 - val_loss: 0.9388 - val_acc: 0.5972\n",
      "Epoch 3/30\n",
      "214/214 [==============================] - 116s 542ms/step - loss: 0.9138 - acc: 0.5748 - val_loss: 0.8833 - val_acc: 0.6389\n",
      "Epoch 4/30\n",
      "214/214 [==============================] - 115s 537ms/step - loss: 0.8556 - acc: 0.6075 - val_loss: 0.8961 - val_acc: 0.6389\n",
      "Epoch 5/30\n",
      "214/214 [==============================] - 113s 529ms/step - loss: 0.9070 - acc: 0.6121 - val_loss: 0.9033 - val_acc: 0.6528\n",
      "Epoch 6/30\n",
      "214/214 [==============================] - 115s 537ms/step - loss: 0.8463 - acc: 0.6355 - val_loss: 0.9577 - val_acc: 0.5972\n",
      "Epoch 7/30\n",
      "214/214 [==============================] - 114s 535ms/step - loss: 0.8913 - acc: 0.5935 - val_loss: 1.2785 - val_acc: 0.2639\n",
      "Epoch 8/30\n",
      "214/214 [==============================] - 115s 536ms/step - loss: 0.9133 - acc: 0.5888 - val_loss: 0.8704 - val_acc: 0.6667\n",
      "Epoch 9/30\n",
      "214/214 [==============================] - 119s 557ms/step - loss: 0.8395 - acc: 0.6776 - val_loss: 0.8946 - val_acc: 0.6111\n",
      "Epoch 10/30\n",
      "214/214 [==============================] - 117s 548ms/step - loss: 0.8141 - acc: 0.6589 - val_loss: 0.9025 - val_acc: 0.6389\n",
      "Epoch 11/30\n",
      "214/214 [==============================] - 142s 665ms/step - loss: 0.8141 - acc: 0.6729 - val_loss: 0.8647 - val_acc: 0.6250\n",
      "Epoch 12/30\n",
      "214/214 [==============================] - 131s 614ms/step - loss: 0.8375 - acc: 0.6495 - val_loss: 0.8498 - val_acc: 0.6528\n",
      "Epoch 13/30\n",
      "214/214 [==============================] - 125s 582ms/step - loss: 0.7985 - acc: 0.6308 - val_loss: 0.8646 - val_acc: 0.6528\n",
      "Epoch 14/30\n",
      "214/214 [==============================] - 124s 579ms/step - loss: 0.8811 - acc: 0.6121 - val_loss: 0.8361 - val_acc: 0.6667\n",
      "Epoch 15/30\n",
      "214/214 [==============================] - 124s 578ms/step - loss: 0.8085 - acc: 0.6262 - val_loss: 0.8381 - val_acc: 0.7083\n",
      "Epoch 16/30\n",
      "214/214 [==============================] - 120s 562ms/step - loss: 0.8094 - acc: 0.6776 - val_loss: 0.9089 - val_acc: 0.6528\n",
      "Epoch 17/30\n",
      "214/214 [==============================] - 119s 558ms/step - loss: 0.7884 - acc: 0.6636 - val_loss: 0.8860 - val_acc: 0.6528\n",
      "Epoch 18/30\n",
      "214/214 [==============================] - 119s 557ms/step - loss: 0.8080 - acc: 0.6729 - val_loss: 0.8960 - val_acc: 0.6528\n",
      "Epoch 19/30\n",
      "214/214 [==============================] - 118s 552ms/step - loss: 0.7565 - acc: 0.7103 - val_loss: 1.0587 - val_acc: 0.5972\n",
      "Epoch 20/30\n",
      "214/214 [==============================] - 120s 560ms/step - loss: 0.8310 - acc: 0.6822 - val_loss: 0.9092 - val_acc: 0.5972\n",
      "Epoch 21/30\n",
      "214/214 [==============================] - 125s 585ms/step - loss: 0.7444 - acc: 0.6916 - val_loss: 0.7517 - val_acc: 0.7500\n",
      "Epoch 22/30\n",
      "214/214 [==============================] - 121s 567ms/step - loss: 0.7374 - acc: 0.6869 - val_loss: 0.7992 - val_acc: 0.6528\n",
      "Epoch 23/30\n",
      "214/214 [==============================] - 125s 583ms/step - loss: 0.6817 - acc: 0.7336 - val_loss: 0.6964 - val_acc: 0.7500\n",
      "Epoch 24/30\n",
      "214/214 [==============================] - 123s 577ms/step - loss: 0.7537 - acc: 0.6916 - val_loss: 0.7803 - val_acc: 0.6806\n",
      "Epoch 25/30\n",
      "214/214 [==============================] - 122s 570ms/step - loss: 0.8188 - acc: 0.6636 - val_loss: 0.9776 - val_acc: 0.5417\n",
      "Epoch 26/30\n",
      "214/214 [==============================] - 122s 569ms/step - loss: 0.7065 - acc: 0.7383 - val_loss: 1.3296 - val_acc: 0.5417\n",
      "Epoch 27/30\n",
      "214/214 [==============================] - 121s 565ms/step - loss: 0.7719 - acc: 0.6963 - val_loss: 0.7761 - val_acc: 0.6944\n",
      "Epoch 28/30\n",
      "214/214 [==============================] - 123s 577ms/step - loss: 0.7482 - acc: 0.7290 - val_loss: 0.7186 - val_acc: 0.7500\n",
      "Epoch 29/30\n",
      "214/214 [==============================] - 124s 579ms/step - loss: 0.7199 - acc: 0.7103 - val_loss: 0.7153 - val_acc: 0.7500\n",
      "Epoch 30/30\n",
      "214/214 [==============================] - 139s 647ms/step - loss: 0.6889 - acc: 0.7290 - val_loss: 0.6912 - val_acc: 0.7361\n"
     ]
    }
   ],
   "source": [
    "history = model.fit(x_train, y_train,\n",
    "                    epochs = 30, batch_size = 16,\n",
    "                    validation_data = (x_val,y_val))"
   ]
  },
  {
   "cell_type": "code",
   "execution_count": 18,
   "metadata": {},
   "outputs": [
    {
     "data": {
      "image/png": "[encoded data removed]",
      "text/plain": [
       "<Figure size 432x288 with 1 Axes>"
      ]
     },
     "metadata": {
      "needs_background": "light"
     },
     "output_type": "display_data"
    }
   ],
   "source": [
    "# summarize history for accuracy\n",
    "plt.plot(history.history['acc'])\n",
    "plt.plot(history.history['val_acc'])\n",
    "plt.title('model accuracy')\n",
    "plt.ylabel('accuracy')\n",
    "plt.xlabel('epoch')\n",
    "plt.legend(['train', 'validation'], loc = 'upper left')\n",
    "plt.show()"
   ]
  },
  {
   "cell_type": "code",
   "execution_count": 19,
   "metadata": {},
   "outputs": [
    {
     "data": {
      "image/png": "[encoded data removed]",
      "text/plain": [
       "<Figure size 432x288 with 1 Axes>"
      ]
     },
     "metadata": {
      "needs_background": "light"
     },
     "output_type": "display_data"
    }
   ],
   "source": [
    "# summarize history for loss\n",
    "plt.plot(history.history['loss'])\n",
    "plt.plot(history.history['val_loss'])\n",
    "plt.title('model loss')\n",
    "plt.ylabel('loss')\n",
    "plt.xlabel('epoch')\n",
    "plt.legend(['train', 'validation'], loc = 'upper left')\n",
    "plt.show()"
   ]
  }
 ],
 "metadata": {
  "kernelspec": {
   "display_name": "Python 3",
   "language": "python",
   "name": "python3"
  },
  "language_info": {
   "codemirror_mode": {
    "name": "ipython",
    "version": 3
   },
   "file_extension": ".py",
   "mimetype": "text/x-python",
   "name": "python",
   "nbconvert_exporter": "python",
   "pygments_lexer": "ipython3",
   "version": "3.6.10"
  }
 },
 "nbformat": 4,
 "nbformat_minor": 4
}
